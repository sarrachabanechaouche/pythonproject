{
 "cells": [
  {
   "cell_type": "markdown",
   "metadata": {},
   "source": [
    "Cet implémentation est basé sur l'algorithme de Poppenger, lui meme n'étant qu'une façon de détourner le résultat de n'importe quel algrothme produisant une chaine d'addition minimal de nombre input n. Cela est possible du fait que lors de l'exponentiation, les exponenents sont additionner."
   ]
  },
  {
   "cell_type": "markdown",
   "metadata": {},
   "source": [
    "L'algorithme de chaine d'addition que nous avons choisie et celui des fractions contenues présenté par Bergson, Brlek, Berstel (1994)."
   ]
  },
  {
   "cell_type": "code",
   "execution_count": 1,
   "metadata": {},
   "outputs": [],
   "source": [
    "import numpy as np"
   ]
  },
  {
   "cell_type": "markdown",
   "metadata": {},
   "source": [
    "numpy nous sera utile afin de calculer des logarithme en base 2."
   ]
  },
  {
   "cell_type": "code",
   "execution_count": 2,
   "metadata": {},
   "outputs": [],
   "source": [
    "def continious_fraction(n, k):\n",
    "    U = []\n",
    "\n",
    "    while True :\n",
    "        u, v = divmod(n,k)\n",
    "        U.append(u)\n",
    "\n",
    "        n, k = k, v\n",
    "\n",
    "        if v == 0 :\n",
    "            break\n",
    "    \n",
    "    return U[::-1]"
   ]
  },
  {
   "cell_type": "markdown",
   "metadata": {},
   "source": [
    "Calcule les éléments de la fractions contenu de n/k et les retour dans l'ordre opposé a leur apparition."
   ]
  },
  {
   "cell_type": "code",
   "execution_count": 3,
   "metadata": {},
   "outputs": [],
   "source": [
    "def gcd(n, k):\n",
    "    while k:\n",
    "        n, k = k, n%k\n",
    "    return n"
   ]
  },
  {
   "cell_type": "markdown",
   "metadata": {},
   "source": [
    "Calcule le plus grand diviseur commun de n et k."
   ]
  },
  {
   "cell_type": "code",
   "execution_count": 4,
   "metadata": {},
   "outputs": [],
   "source": [
    "def Q_func(u, q_0 ) :\n",
    "    N = len(u)+1\n",
    "    Q = [ 0 for _ in range(N) ]\n",
    "\n",
    "    Q[0] = q_0\n",
    "    Q[1] = q_0*u[0]\n",
    "\n",
    "    for i in range(2, N) :\n",
    "        Q[i] = Q[i-1]*u[i-1] + Q[i-2]\n",
    "\n",
    "    return Q"
   ]
  },
  {
   "cell_type": "markdown",
   "metadata": {},
   "source": [
    "Calcule les éléments de la liste Q tel que spécifié dans l'article de référence."
   ]
  },
  {
   "cell_type": "code",
   "execution_count": 5,
   "metadata": {},
   "outputs": [],
   "source": [
    "def C(n, D):\n",
    "    if np.log2(n)%1 == 0 :\n",
    "        return [ 2**i for i in range( int(np.log2(n)) +1 ) ]\n",
    "    else :\n",
    "        return D[n]"
   ]
  },
  {
   "cell_type": "markdown",
   "metadata": {},
   "source": [
    "La méthode est récursive. C(n, D) va retourner la chaine d'addtion de n. si n est une puissance de 2 il s'agira de [1,2,4,8...,n]. Sinon celle-ci aura deja était calculer et enregistrer dans le dictionnaire D, il suffira de la retourner. "
   ]
  },
  {
   "cell_type": "code",
   "execution_count": 6,
   "metadata": {},
   "outputs": [],
   "source": [
    "def mul(a, b):\n",
    "    b = [ a[-1]*i for i in b ]\n",
    "    return a[:-1]+b\n",
    "\n",
    "def add(a, b):\n",
    "    return a+[ a[-1]+b ]"
   ]
  },
  {
   "cell_type": "markdown",
   "metadata": {},
   "source": [
    "Oppérateur de multiplication et d'addition spéciaux, tel que définie dans l'article de référence."
   ]
  },
  {
   "cell_type": "code",
   "execution_count": 7,
   "metadata": {},
   "outputs": [],
   "source": [
    "def X_func(Q, D, u):\n",
    "    N = len(Q)\n",
    "    X = [ 0 for _ in range(N) ]\n",
    "\n",
    "    X[0] = C(Q[0], D)\n",
    "    X[1] = mul( X[0], C(u[0], D) )\n",
    "\n",
    "    for i in range(2, N) :\n",
    "        X[i] =  add( mul(X[i-1], C(u[i-1], D)), Q[i-2])\n",
    "\n",
    "    return X[-1]"
   ]
  },
  {
   "cell_type": "markdown",
   "metadata": {},
   "source": [
    "Calcule les éléments de la liste X tel que définie par l'article de référence. le dernier élément de cette liste correspondra à la chaine d'addition optimale."
   ]
  },
  {
   "cell_type": "code",
   "execution_count": 8,
   "metadata": {},
   "outputs": [],
   "source": [
    "def minProd(mode, s) :\n",
    "    \n",
    "    # on initialise le dictionnaire des chaine d'addition avec les valeurs de départ\n",
    "    D = { 1:[1], 2:[1,2], 3:[1,2,3] }\n",
    "\n",
    "    for n in range(4, s+1) : # liste des valeurs à tester\n",
    "        chains = []          # chains contiendra toute les chaine d'addition de n étant de k, seul la meilleure sera retenu\n",
    "\n",
    "        for k in range(2, n-1) : # toute les valeur de k à tester avc un n donné \n",
    "\n",
    "            # exécution de l'algorithme tel que décrit dans l'article de référence\n",
    "            u = continious_fraction(n, k)\n",
    "            Q = Q_func( u, gcd(n, k) )\n",
    "            X = X_func(Q, D, u)\n",
    "            \n",
    "            chains.append( X )\n",
    "\n",
    "        best = sorted( chains, key= lambda x : len(x) )[0]   # choix de la chaine la plus courte\n",
    "        D[n] = best  # enregistrement de celle-ci dans un dictionnaire\n",
    "\n",
    "    # en mode 'upto' c la somme qui sera retourner tel que demander dans l'exercice\n",
    "    if mode == 'upto' :\n",
    "        return sum( len(D[i])-1 for i in range(1, s) ) # la longeur de la chaine d'exponentiation minimal est\n",
    "                                                       # égale a la (longeur de X)-1 (élément 1 de la chaine)\n",
    "\n",
    "    # le mode 'only' permet de vérifier les valeurs des chaine calculer pour une entré donnée\n",
    "    elif mode == 'only' :\n",
    "        return len(D[s])-1, D[s]"
   ]
  },
  {
   "cell_type": "code",
   "execution_count": 9,
   "metadata": {},
   "outputs": [
    {
     "name": "stdout",
     "output_type": "stream",
     "text": [
      "Somme des chaines d'exponentiatiations jusqu'a 200 = 1772\n"
     ]
    }
   ],
   "source": [
    "s = 200\n",
    "# print( minProd(mode='only', s=s) )\n",
    "print( f\"Somme des chaines d'exponentiatiations jusqu'a {s} = {minProd(mode='upto', s=s)}\" )"
   ]
  }
 ],
 "metadata": {
  "kernelspec": {
   "display_name": "Python 3",
   "language": "python",
   "name": "python3"
  },
  "language_info": {
   "codemirror_mode": {
    "name": "ipython",
    "version": 3
   },
   "file_extension": ".py",
   "mimetype": "text/x-python",
   "name": "python",
   "nbconvert_exporter": "python",
   "pygments_lexer": "ipython3",
   "version": "3.6.4"
  }
 },
 "nbformat": 4,
 "nbformat_minor": 2
}
